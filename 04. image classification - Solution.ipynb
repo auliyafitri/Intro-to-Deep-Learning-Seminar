{
 "cells": [
  {
   "cell_type": "markdown",
   "metadata": {},
   "source": [
    "# Image Classification\n",
    "\n",
    "In the final part we will use what we learned earlier to classify images. \n",
    "\n",
    "In a first section we will go through the basics of image pre-processing and how to classify images using a fully connected network.\n",
    "\n",
    "In the second section you will use a more sophisticated approach, namely a Convolutional Neural Network (CNN) and discover it's advantages.\n"
   ]
  },
  {
   "cell_type": "markdown",
   "metadata": {},
   "source": [
    "## Prerequisites"
   ]
  },
  {
   "cell_type": "code",
   "execution_count": 1,
   "metadata": {},
   "outputs": [],
   "source": [
    "# Before we start, load some libraries ...\n",
    "from res.plot_lib import plot_data, plot_model, set_default\n",
    "set_default()"
   ]
  },
  {
   "cell_type": "code",
   "execution_count": 2,
   "metadata": {},
   "outputs": [],
   "source": [
    "# ... and some more\n",
    "import torch\n",
    "import torch.nn as nn\n",
    "import torch.nn.functional as F\n",
    "import torch.optim as optim\n",
    "from torchvision import datasets, transforms\n",
    "import matplotlib.pyplot as plt\n",
    "from IPython import display\n",
    "import numpy\n",
    "\n",
    "# helper function to count number of parameters\n",
    "def get_n_params(model):\n",
    "    np=0\n",
    "    for p in list(model.parameters()):\n",
    "        np += p.nelement()\n",
    "    return np"
   ]
  },
  {
   "cell_type": "markdown",
   "metadata": {},
   "source": [
    "### Running on a GPU: device string\n",
    "Switching between CPU and GPU in PyTorch is controlled via a device string, which will seemlessly determine whether GPU is available, falling back to CPU if not:"
   ]
  },
  {
   "cell_type": "code",
   "execution_count": 3,
   "metadata": {},
   "outputs": [],
   "source": [
    "device = torch.device(\"cuda:0\" if torch.cuda.is_available() else \"cpu\")"
   ]
  },
  {
   "cell_type": "markdown",
   "metadata": {},
   "source": [
    "## 1. Load the Dataset (MNIST)\n",
    "\n",
    "MNIST is a famous image classifiaction dataset, consisting of grayscale images of handwritten digits.\n",
    "\n",
    "We can use some PyTorch DataLoader utilities for this. This will download, shuffle, normalize data and arrange it in batches."
   ]
  },
  {
   "cell_type": "code",
   "execution_count": 4,
   "metadata": {
    "scrolled": false
   },
   "outputs": [],
   "source": [
    "input_size  = 28*28   # images are 28x28 pixels\n",
    "output_size = 10      # there are 10 classes\n",
    "\n",
    "train_loader = torch.utils.data.DataLoader(\n",
    "    datasets.MNIST('data/', train=True, download=True,\n",
    "                   transform=transforms.Compose([\n",
    "                       transforms.ToTensor(),\n",
    "                       transforms.Normalize((0.1307,), (0.3081,))\n",
    "                   ])),\n",
    "    batch_size=64, shuffle=True)\n",
    "\n",
    "test_loader = torch.utils.data.DataLoader(\n",
    "    datasets.MNIST('data/', train=False, transform=transforms.Compose([\n",
    "                       transforms.ToTensor(),\n",
    "                       transforms.Normalize((0.1307,), (0.3081,))\n",
    "                   ])),\n",
    "    batch_size=1000, shuffle=True)"
   ]
  },
  {
   "cell_type": "code",
   "execution_count": 5,
   "metadata": {},
   "outputs": [
    {
     "data": {
      "image/png": "[encoded data removed]",
      "text/plain": [
       "<Figure size 1600x600 with 10 Axes>"
      ]
     },
     "metadata": {},
     "output_type": "display_data"
    }
   ],
   "source": [
    "# show some images\n",
    "plt.figure(figsize=(16, 6))\n",
    "for i in range(10):\n",
    "    plt.subplot(2, 5, i + 1)\n",
    "    image, _ = train_loader.dataset.__getitem__(i)\n",
    "    plt.imshow(image.squeeze().numpy())\n",
    "    plt.axis('off');"
   ]
  },
  {
   "cell_type": "markdown",
   "metadata": {},
   "source": [
    "## 2. Training and Evaluation methods"
   ]
  },
  {
   "cell_type": "code",
   "execution_count": 6,
   "metadata": {},
   "outputs": [],
   "source": [
    "accuracy_list = []\n",
    "\n",
    "def train(epoch, model, perm=torch.arange(0, 784).long()):\n",
    "    dh = display.display(None, display_id=True)\n",
    "    model.train()\n",
    "    for batch_idx, (data, target) in enumerate(train_loader):\n",
    "        # send to device\n",
    "        data, target = data.to(device), target.to(device)\n",
    "        \n",
    "        # permute pixels\n",
    "        data = data.view(-1, 28*28)\n",
    "        data = data[:, perm]\n",
    "        data = data.view(-1, 1, 28, 28)\n",
    "\n",
    "        optimizer.zero_grad()\n",
    "        # pass data through the model\n",
    "        output = model(data)\n",
    "        # calculate loss\n",
    "        loss = F.nll_loss(output, target)\n",
    "        # calculate gradients of the loss wrt. to model parameters\n",
    "        loss.backward()\n",
    "        # and update parameters accordingly\n",
    "        optimizer.step()\n",
    "        \n",
    "        # output training status\n",
    "        if batch_idx % 10 == 0:\n",
    "            dh.update(f\"[MODEL]: {model.__class__.__name__}, [EPOCH]: {epoch}, \"\n",
    "                    + f\"[BATCH]: {batch_idx}, [LOSS]: {loss.item():.6f}\")\n",
    "            \n",
    "            \n",
    "def test(model, perm=torch.arange(0, 784).long()):\n",
    "    model.eval()\n",
    "    test_loss = 0\n",
    "    correct = 0\n",
    "    for data, target in test_loader:\n",
    "        # send to device\n",
    "        data, target = data.to(device), target.to(device)\n",
    "        \n",
    "        # permute pixels\n",
    "        data = data.view(-1, 28*28)\n",
    "        data = data[:, perm]\n",
    "        data = data.view(-1, 1, 28, 28)\n",
    "        output = model(data)\n",
    "        test_loss += F.nll_loss(output, target, reduction='sum').item() # sum up batch loss                                                               \n",
    "        pred = output.data.max(1, keepdim=True)[1] # get the prediction                                                                 \n",
    "        correct += pred.eq(target.data.view_as(pred)).cpu().sum().item()\n",
    "\n",
    "    test_loss /= len(test_loader.dataset)\n",
    "    accuracy = 100. * correct / len(test_loader.dataset)\n",
    "    accuracy_list.append(accuracy)\n",
    "    \n",
    "    print(f\"Test set: Average loss: {test_loss:.4f}, \"\n",
    "          + f\"Accuracy: {correct}/{len(test_loader.dataset)} ({accuracy:.0f}%)\")"
   ]
  },
  {
   "cell_type": "markdown",
   "metadata": {},
   "source": [
    "## 3. Classification using a Fully Connected Network\n",
    "\n",
    "In this section we will define a Fully Connected Network and train it on a chunk of the MNIST dataset. After it has been trained we will use it to classify the remaining images, the network has not \"seen\" before."
   ]
  },
  {
   "cell_type": "markdown",
   "metadata": {},
   "source": [
    "### 3.1 Define a Fully Conected Network\n",
    "\n",
    "A Fully Connected Layer (aka Linear Layer) is defined by\n",
    "\n",
    "```fc = torch.nn.Linear(in_features, out_features, bias=True)```"
   ]
  },
  {
   "cell_type": "code",
   "execution_count": 7,
   "metadata": {},
   "outputs": [],
   "source": [
    "class FCN(nn.Module):\n",
    "    def __init__(self, input_size, n_features, output_size):\n",
    "        super(FCN, self).__init__()\n",
    "        self.input_size = input_size\n",
    "        self.network = nn.Sequential(\n",
    "            nn.Flatten(), # this turns the 28x28 input image into a 784-dim vector \n",
    "            nn.Linear(in_features=input_size, out_features=n_features), \n",
    "            nn.ReLU(), \n",
    "            nn.Linear(n_features, n_features), \n",
    "            nn.ReLU(), \n",
    "            nn.Linear(n_features, output_size), \n",
    "            nn.LogSoftmax(dim=1)\n",
    "        )\n",
    "\n",
    "    def forward(self, x):\n",
    "        return self.network(x)\n",
    "        \n"
   ]
  },
  {
   "cell_type": "markdown",
   "metadata": {},
   "source": [
    "### 3.2 Train the Fully Connected Network on MNIST"
   ]
  },
  {
   "cell_type": "code",
   "execution_count": 8,
   "metadata": {},
   "outputs": [
    {
     "name": "stdout",
     "output_type": "stream",
     "text": [
      "Number of parameters: 6442\n"
     ]
    },
    {
     "data": {
      "text/plain": [
       "'[MODEL]: FCN, [EPOCH]: 1, [BATCH]: 930, [LOSS]: 0.450249'"
      ]
     },
     "metadata": {},
     "output_type": "display_data"
    },
    {
     "name": "stdout",
     "output_type": "stream",
     "text": [
      "Test set: Average loss: 0.3922, Accuracy: 8846/10000 (88%)\n"
     ]
    }
   ],
   "source": [
    "n_hidden = 8 # number of hidden units\n",
    "\n",
    "model_fnn = FCN(input_size, n_hidden, output_size)\n",
    "model_fnn.to(device)\n",
    "optimizer = optim.SGD(model_fnn.parameters(), lr=0.01, momentum=0.5)\n",
    "print('Number of parameters: {}'.format(get_n_params(model_fnn)))\n",
    "\n",
    "for epoch in range(1, 2):\n",
    "    train(epoch, model_fnn)\n",
    "    test(model_fnn)"
   ]
  },
  {
   "cell_type": "markdown",
   "metadata": {},
   "source": [
    "### In Deep Learning\n",
    "* Many layers: compositionality\n",
    "* Convolutions: locality + stationarity of images\n",
    "* Pooling: Invariance of object class to translations\n",
    "\n",
    "Let's use a Convolutional Neural Network (CNN)"
   ]
  },
  {
   "cell_type": "markdown",
   "metadata": {},
   "source": [
    "## 4. Excercise: Classification using a Convolutional Neural Network (CNN)\n",
    "\n",
    "* Convolutions allow us to extract prior knowledge about the images (Locality and stationarity)\n",
    "* Pooling builds in some translation invariance"
   ]
  },
  {
   "cell_type": "markdown",
   "metadata": {},
   "source": [
    "### 4.1 How to build a CNN\n",
    "\n",
    "A 2D Convolutional layer is defined by:\n",
    "\n",
    "```python\n",
    "nn.Conv2d(in_channels, out_channels, kernel_size)\n",
    "```\n",
    "(for the full argument list see: https://pytorch.org/docs/stable/generated/torch.nn.Conv2d.html)\n",
    "\n",
    "A 2D MaxPooling layer is defined by:\n",
    "\n",
    "```python\n",
    "nn.MaxPool2d(kernel_size)\n",
    "```\n",
    "(for the full argument list see: https://pytorch.org/docs/stable/generated/torch.nn.MaxPool2d.html)\n",
    "\n",
    "A typical convolutional block consists of a convolutional layer followed by a nonlinearity (e.g. `nn.ReLU()`) and a pooling layer.\n",
    "\n",
    "To connect a convolutinal layer (2-dim) to a fully connected layer (1-dim), we need to flatten the output of the convoltional layer."
   ]
  },
  {
   "cell_type": "markdown",
   "metadata": {},
   "source": [
    "### 4.2 Hands-On Excercise\n",
    "\n",
    "1. Define a Convolutional Neural Network, consisting of 2 convolutional blocks and 2 fully connected layers. (Don't forget to Softmax)\n",
    "  * Hint: The input_size of the first Fully Connected Layer is `n_features * 4 * 4`\n",
    "2. Train your CNN on the MNIST dataset and compare the result to the FCN. \n",
    "  * Does it perform better? \n",
    "  * If it does, why?\n",
    "3. Optional: What happens if you ask your CNN to classify a \"rotated 1\"?"
   ]
  },
  {
   "cell_type": "code",
   "execution_count": 9,
   "metadata": {},
   "outputs": [],
   "source": [
    "# Excercise 1: Define CNN\n",
    "class CNN(nn.Module):\n",
    "    def __init__(self, input_size, n_features, output_size):\n",
    "        super(CNN, self).__init__()\n",
    "        self.input_size = input_size\n",
    "        self.network = nn.Sequential(\n",
    "            nn.Conv2d(in_channels=1, out_channels=n_features, kernel_size=5),\n",
    "            nn.ReLU(),\n",
    "            nn.MaxPool2d(kernel_size=2),\n",
    "            nn.Conv2d(n_features, n_features, kernel_size=5),\n",
    "            nn.ReLU(),\n",
    "            nn.MaxPool2d(kernel_size=2),\n",
    "            nn.Flatten(),\n",
    "            nn.Linear(n_features*4*4, 50), \n",
    "            nn.Linear(50, output_size),  \n",
    "            nn.LogSoftmax(dim=1)\n",
    "        )\n",
    "    def forward(self, x):\n",
    "        return self.network(x)"
   ]
  },
  {
   "cell_type": "code",
   "execution_count": 10,
   "metadata": {},
   "outputs": [
    {
     "name": "stdout",
     "output_type": "stream",
     "text": [
      "Number of parameters: 6422\n"
     ]
    },
    {
     "data": {
      "text/plain": [
       "'[MODEL]: CNN, [EPOCH]: 1, [BATCH]: 930, [LOSS]: 0.140655'"
      ]
     },
     "metadata": {},
     "output_type": "display_data"
    },
    {
     "name": "stdout",
     "output_type": "stream",
     "text": [
      "Test set: Average loss: 0.1449, Accuracy: 9537/10000 (95%)\n"
     ]
    }
   ],
   "source": [
    "# Excercise 2: Training and Evaluation\n",
    "\n",
    "n_features = 6 # number of feature maps. \n",
    "# Note: 6 is chosen in order to have similar number of parameters from FCN \n",
    "# so we can compare the performace of both networks given same number of parameters.\n",
    "# However, you can choose any number of feature\n",
    "\n",
    "model_cnn = CNN(input_size, n_features, output_size)\n",
    "model_cnn.to(device)\n",
    "optimizer = optim.SGD(model_cnn.parameters(), lr=0.01, momentum=0.5)\n",
    "print('Number of parameters: {}'.format(get_n_params(model_cnn)))\n",
    "\n",
    "for epoch in range(1, 2):\n",
    "    train(epoch, model_cnn)\n",
    "    test(model_cnn)"
   ]
  },
  {
   "cell_type": "code",
   "execution_count": 11,
   "metadata": {},
   "outputs": [],
   "source": [
    "# Excercise 3: Pass a rotated 1 through your CNN. \n",
    "\n",
    "# You can use the following functions:\n",
    "def gimmeOne():\n",
    "    i = 0\n",
    "    for data, target in test_loader.dataset:\n",
    "        if target == 1:\n",
    "            return data, target\n",
    "\n",
    "def show_image(image):\n",
    "    plt.figure(figsize=(3, 3))\n",
    "    plt.imshow(image.squeeze().numpy())\n",
    "    plt.axis('off');\n",
    "\n",
    "def predict_single_image(model, image):\n",
    "    model_cnn.eval()\n",
    "    perm=torch.arange(0, 784).long()\n",
    "    \n",
    "    image = image.view(-1, 28*28)\n",
    "    image = image[:, perm]\n",
    "    image = image.view(-1, 1, 28, 28)\n",
    "    \n",
    "    prediction = model_cnn(image)\n",
    "    return torch.argmax(prediction)\n",
    "\n",
    "def rotate_image(image, angle):\n",
    "    rot = transforms.RandomRotation((angle, angle))\n",
    "    return rot(image)\n",
    "\n",
    "# put your code here\n"
   ]
  },
  {
   "cell_type": "code",
   "execution_count": 12,
   "metadata": {},
   "outputs": [
    {
     "name": "stdout",
     "output_type": "stream",
     "text": [
      "Prediction: 1, Target: 1\n"
     ]
    },
    {
     "data": {
      "image/png": "[encoded data removed]",
      "text/plain": [
       "<Figure size 300x300 with 1 Axes>"
      ]
     },
     "metadata": {},
     "output_type": "display_data"
    }
   ],
   "source": [
    "# get a one from the test set and predict it\n",
    "image, target = gimmeOne()\n",
    "show_image(image)\n",
    "prediction = predict_single_image(model_cnn, image)\n",
    "print(f\"Prediction: {prediction}, Target: {target}\")"
   ]
  },
  {
   "cell_type": "code",
   "execution_count": null,
   "metadata": {},
   "outputs": [],
   "source": [
    "# rotate the image and predict again\n",
    "img_rotated = rotate_image(image, 90)\n",
    "show_image(img_rotated)\n",
    "prediction = predict_single_image(model_cnn, img_rotated)\n",
    "print(f\"Prediction: {prediction}, Target: {target}\")"
   ]
  }
 ],
 "metadata": {
  "kernelspec": {
   "display_name": "Python 3",
   "language": "python",
   "name": "python3"
  },
  "language_info": {
   "codemirror_mode": {
    "name": "ipython",
    "version": 3
   },
   "file_extension": ".py",
   "mimetype": "text/x-python",
   "name": "python",
   "nbconvert_exporter": "python",
   "pygments_lexer": "ipython3",
   "version": "3.7.7"
  }
 },
 "nbformat": 4,
 "nbformat_minor": 4
}
